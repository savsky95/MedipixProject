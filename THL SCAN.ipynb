{
 "cells": [
  {
   "cell_type": "markdown",
   "metadata": {},
   "source": [
    "# THL SCAN WITH TimePix\n",
    "## Heavily influenced from matlab scripts for medipix2 analysis as can be viewed at this link https://twiki.ppe.gla.ac.uk/bin/view/DetDev/MedipixMATLABScripts"
   ]
  },
  {
   "cell_type": "markdown",
   "metadata": {},
   "source": [
    "version 1: From the ascii file output in pixelman, we get a non-extension file and a .dsc file for each acquisition. Make sure to save (atleast) 1 dsc file for records of your dac settings and other device controls-> otherwise put all the non-extension files together and give them a txt or csv extension. Those are the matrix files which for the timepix or medipix2 is 256 x 256 and refers to the pixels of the detector. "
   ]
  },
  {
   "cell_type": "markdown",
   "metadata": {},
   "source": [
    "This code is for use with acquisitions in Time Over Threshold or TOT mode. As far as I know, only timepix has this capability. "
   ]
  },
  {
   "cell_type": "markdown",
   "metadata": {},
   "source": [
    "This code is made up of 4 sections.\n",
    "\n",
    "1. Load folders\n",
    "2. create a df where each column is an acquisition \"image\" that you can view by extracting the nth column. \n",
    "3. taking the differential, find mean and std dev\n",
    "4. plotting a differential count rate vs THL (type spectrum) "
   ]
  },
  {
   "cell_type": "code",
   "execution_count": null,
   "metadata": {},
   "outputs": [],
   "source": [
    "#Section 1\n",
    "import os \n",
    "import numpy as np\n",
    "import matplotlib as plt\n",
    "\n",
    "dir = #'the/directory/address' \n",
    "THLStart = \n",
    "THLStop =\n",
    "#nstop is the number of seperate scans ie iterations\n",
    "nStop = \n",
    "THLVECTOR = []\n",
    "Image = []\n",
    "kMax = THLStop - THLStart + 1\n",
    "\n",
    "for x in range(1,nStop):\n",
    "   \n",
    "    for k in range (1,kMax):\n",
    "        THL = THLStart + k -1\n",
    "        THLVECTOR.append(THL)\n",
    "        \n",
    "            for filename in os.listdir(dir):\n",
    "                if filename.endswith('.txt'): #or change to csv if that is your preference\n",
    "                f = open(filename)\n",
    "                Image = f.read()\n",
    "                Image.append(Image)\n",
    "                else:\n",
    "                    pass #just incase those dsc files are in your main directory\n",
    "\n",
    "\n",
    "#SECTION 2                \n",
    "                \n",
    "#At this point we can see we have two vectors. THLVECTOR AND Image.\n",
    "#We need to create a df where each Image is a data set where THL is its call\n",
    "#Perhaps this is a job for pandas! \n",
    "#MATRIX FORM : \n",
    "#thl    [1]  [2] [3] [4] [5]\n",
    "#IMGS   [I1][I2][I3][I4][I5]\n",
    "#       [M1][M2][M3][M4][M5]\n",
    "#       [G1][G2][G3][G4][G5]\n",
    "                \n"
   ]
  },
  {
   "cell_type": "markdown",
   "metadata": {},
   "source": [
    "Sources cited:\n",
    "\n",
    "iteratie over a directory, Daniel Hoadley \"carrefax.com\""
   ]
  },
  {
   "cell_type": "code",
   "execution_count": null,
   "metadata": {},
   "outputs": [],
   "source": []
  }
 ],
 "metadata": {
  "kernelspec": {
   "display_name": "Python 3",
   "language": "python",
   "name": "python3"
  },
  "language_info": {
   "codemirror_mode": {
    "name": "ipython",
    "version": 3
   },
   "file_extension": ".py",
   "mimetype": "text/x-python",
   "name": "python",
   "nbconvert_exporter": "python",
   "pygments_lexer": "ipython3",
   "version": "3.6.8"
  }
 },
 "nbformat": 4,
 "nbformat_minor": 2
}
